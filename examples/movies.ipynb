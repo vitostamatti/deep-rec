{
  "nbformat": 4,
  "nbformat_minor": 0,
  "metadata": {
    "colab": {
      "provenance": [],
      "authorship_tag": "ABX9TyMrKXPhMpQ/1qbbfKUR0O4H",
      "include_colab_link": true
    },
    "kernelspec": {
      "name": "python3",
      "display_name": "Python 3"
    },
    "language_info": {
      "name": "python"
    }
  },
  "cells": [
    {
      "cell_type": "markdown",
      "metadata": {
        "id": "view-in-github",
        "colab_type": "text"
      },
      "source": [
        "<a href=\"https://colab.research.google.com/github/vitostamatti/deep-rec/blob/main/examples/movies.ipynb\" target=\"_parent\"><img src=\"https://colab.research.google.com/assets/colab-badge.svg\" alt=\"Open In Colab\"/></a>"
      ]
    },
    {
      "cell_type": "markdown",
      "source": [
        "# Movies Recommendation Example\n"
      ],
      "metadata": {
        "id": "zhyXLS_JroDn"
      }
    },
    {
      "cell_type": "code",
      "execution_count": 15,
      "metadata": {
        "id": "F9eWMhrej6Dd"
      },
      "outputs": [],
      "source": [
        "import numpy as np \n",
        "import pandas as pd \n",
        "import matplotlib.pyplot as plt\n",
        "import tensorflow as tf\n",
        "import os"
      ]
    },
    {
      "cell_type": "code",
      "source": [
        "!git clone https://github.com/vitostamatti/deep-rec.git"
      ],
      "metadata": {
        "colab": {
          "base_uri": "https://localhost:8080/"
        },
        "id": "b_PdzBTokGKA",
        "outputId": "fd2e7c53-23ed-42c3-8237-e6c0fe31e386"
      },
      "execution_count": 4,
      "outputs": [
        {
          "output_type": "stream",
          "name": "stdout",
          "text": [
            "Cloning into 'deep-rec'...\n",
            "remote: Enumerating objects: 40, done.\u001b[K\n",
            "remote: Counting objects: 100% (40/40), done.\u001b[K\n",
            "remote: Compressing objects: 100% (26/26), done.\u001b[K\n",
            "remote: Total 40 (delta 11), reused 32 (delta 9), pack-reused 0\u001b[K\n",
            "Unpacking objects: 100% (40/40), done.\n"
          ]
        }
      ]
    },
    {
      "cell_type": "code",
      "source": [
        "!pip install ./deep-rec/"
      ],
      "metadata": {
        "colab": {
          "base_uri": "https://localhost:8080/"
        },
        "id": "5kL_KhZNkOrc",
        "outputId": "031b912d-7e92-4a13-c60e-4efc11757021"
      },
      "execution_count": 5,
      "outputs": [
        {
          "output_type": "stream",
          "name": "stdout",
          "text": [
            "Looking in indexes: https://pypi.org/simple, https://us-python.pkg.dev/colab-wheels/public/simple/\n",
            "Processing ./deep-rec\n",
            "\u001b[33m  DEPRECATION: A future pip version will change local packages to be built in-place without first copying to a temporary directory. We recommend you use --use-feature=in-tree-build to test your packages with this new behavior before it becomes the default.\n",
            "   pip 21.3 will remove support for this functionality. You can find discussion regarding this at https://github.com/pypa/pip/issues/7555.\u001b[0m\n",
            "Building wheels for collected packages: deeprec\n",
            "  Building wheel for deeprec (setup.py) ... \u001b[?25l\u001b[?25hdone\n",
            "  Created wheel for deeprec: filename=deeprec-0.0-py3-none-any.whl size=6441 sha256=0b1fe8dc2f34c73d5635e7c5d2ebf407af387ede646df2cadcb43b0f5d9cf01c\n",
            "  Stored in directory: /root/.cache/pip/wheels/d7/e6/f1/535adb0dc5bb78faa214a44ed311cfaa1821f7ba83a90bf8cc\n",
            "Successfully built deeprec\n",
            "Installing collected packages: deeprec\n",
            "Successfully installed deeprec-0.0\n"
          ]
        }
      ]
    },
    {
      "cell_type": "code",
      "source": [
        "# !wget https://files.grouplens.org/datasets/movielens/ml-latest-small.zip\n",
        "# !unzip ml-latest-small.zip\n",
        "!wget https://files.grouplens.org/datasets/movielens/ml-100k.zip\n",
        "!unzip ml-100k.zip"
      ],
      "metadata": {
        "colab": {
          "base_uri": "https://localhost:8080/"
        },
        "id": "6jM3eQVxlEgQ",
        "outputId": "26b0a214-6171-4388-b77a-a914a78f5f03"
      },
      "execution_count": 13,
      "outputs": [
        {
          "output_type": "stream",
          "name": "stdout",
          "text": [
            "--2022-12-27 08:02:51--  https://files.grouplens.org/datasets/movielens/ml-100k.zip\n",
            "Resolving files.grouplens.org (files.grouplens.org)... 128.101.65.152\n",
            "Connecting to files.grouplens.org (files.grouplens.org)|128.101.65.152|:443... connected.\n",
            "HTTP request sent, awaiting response... 200 OK\n",
            "Length: 4924029 (4.7M) [application/zip]\n",
            "Saving to: ‘ml-100k.zip’\n",
            "\n",
            "ml-100k.zip         100%[===================>]   4.70M  30.1MB/s    in 0.2s    \n",
            "\n",
            "2022-12-27 08:02:52 (30.1 MB/s) - ‘ml-100k.zip’ saved [4924029/4924029]\n",
            "\n",
            "Archive:  ml-100k.zip\n",
            "   creating: ml-100k/\n",
            "  inflating: ml-100k/allbut.pl       \n",
            "  inflating: ml-100k/mku.sh          \n",
            "  inflating: ml-100k/README          \n",
            "  inflating: ml-100k/u.data          \n",
            "  inflating: ml-100k/u.genre         \n",
            "  inflating: ml-100k/u.info          \n",
            "  inflating: ml-100k/u.item          \n",
            "  inflating: ml-100k/u.occupation    \n",
            "  inflating: ml-100k/u.user          \n",
            "  inflating: ml-100k/u1.base         \n",
            "  inflating: ml-100k/u1.test         \n",
            "  inflating: ml-100k/u2.base         \n",
            "  inflating: ml-100k/u2.test         \n",
            "  inflating: ml-100k/u3.base         \n",
            "  inflating: ml-100k/u3.test         \n",
            "  inflating: ml-100k/u4.base         \n",
            "  inflating: ml-100k/u4.test         \n",
            "  inflating: ml-100k/u5.base         \n",
            "  inflating: ml-100k/u5.test         \n",
            "  inflating: ml-100k/ua.base         \n",
            "  inflating: ml-100k/ua.test         \n",
            "  inflating: ml-100k/ub.base         \n",
            "  inflating: ml-100k/ub.test         \n"
          ]
        }
      ]
    },
    {
      "cell_type": "code",
      "source": [
        "from deeprec.dataset import RecDataset\n",
        "from deeprec.model import RecModel"
      ],
      "metadata": {
        "id": "cEGEEofOkeAl"
      },
      "execution_count": 6,
      "outputs": []
    },
    {
      "cell_type": "code",
      "source": [
        "BASE_DATA_PATH = './ml-100k/'\n",
        "\n",
        "\n",
        "interactions = pd.read_csv(\n",
        "    os.path.join(BASE_DATA_PATH, \"u.data\"),\n",
        "    sep=\"\\t\",\n",
        "    names = ['user_id','item_id','rating','timestamp']\n",
        ")\n",
        "\n",
        "\n",
        "items = pd.read_csv(\n",
        "    os.path.join(BASE_DATA_PATH, \"u.item\"),\n",
        "    sep=\"|\",\n",
        "    encoding='latin-1',\n",
        "    names = [\"item_id\", \"title\", \"release_date\", \"video_release_date\",\n",
        "              \"IMDb_URL\", \"unknown\", \"Action\", \"Adventure\", \"Animation\",\n",
        "              \"Childrens\", \"Comedy\", \"Crime\", \"Documentary\", \"Drama\", \"Fantasy\",\n",
        "              \"Film-Noir\", \"Horror\", \"Musical\", \"Mystery\", \"Romance\", \"Sci-Fi\",\n",
        "              \"Thriller\", \"War\", \"Western\"\n",
        "            ]\n",
        ")\n",
        "\n",
        "\n",
        "users = pd.read_csv(\n",
        "    os.path.join(BASE_DATA_PATH, \"u.user\"),\n",
        "    sep=\"|\",\n",
        "    names = [\"user_id\", \"age\", \"gender\", \"occupation\", \"zip_code\"]\n",
        ")\n"
      ],
      "metadata": {
        "id": "pn9kF-NUklZK"
      },
      "execution_count": 17,
      "outputs": []
    },
    {
      "cell_type": "code",
      "source": [
        "def user_age_catetory_feature(users):\n",
        "    users['age_cat'] = pd.qcut(\n",
        "        users['age'], \n",
        "        q = 10, \n",
        "        labels=[f'age_{i}' for i in range(10)]\n",
        "    )\n",
        "    users['age_cat'] = users['age_cat'].astype(str)\n",
        "    return users\n",
        "\n",
        "\n",
        "def get_genres_feature(items, genres):\n",
        "    items[\"genres\"] = \"\"\n",
        "    for idx, col in enumerate(genres):\n",
        "        items[col+\"_text\"] = items[col].apply(\n",
        "            lambda x: \"|\"+ col if x==1 else \"\"\n",
        "        )\n",
        "        items[\"genres\"] = items[col+\"_text\"] + items[\"genres\"] \n",
        "        items = items.drop(columns=f\"{col}_text\")\n",
        "        \n",
        "    items[\"genres\"] = items[\"genres\"]+\"|\"\n",
        "    \n",
        "    return items\n",
        "\n",
        "def split_genres_feature(items, max_cols=3):\n",
        "    splitted_genres = items['genres'].str.split(\n",
        "        '|', expand=True\n",
        "    ).iloc[:,1:max_cols+1].replace(\"\",\"unknown\").fillna(\"unknown\")\n",
        "    \n",
        "    splitted_genres.columns = [f\"genres_{i}\" for i in range(max_cols)]\n",
        "    \n",
        "    return items.join(splitted_genres,how='left')\n",
        "\n",
        "\n",
        "def items_years_old_feature(items):\n",
        "    from datetime import datetime\n",
        "    items['years_old'] = (\n",
        "        datetime.now() - pd.to_datetime(items['release_date'])\n",
        "    ).dt.days/365\n",
        "    \n",
        "    return items\n",
        "\n",
        "def items_year_release_feature(items):\n",
        "    from datetime import datetime\n",
        "    items['year_release'] = pd.to_datetime(items['release_date']).dt.year\n",
        "    items['year_release'] = items['year_release'].fillna(items['year_release'].mean())\n",
        "    items['year_release'] = items['year_release'].astype(int)\n",
        "    \n",
        "    return items\n",
        "\n",
        "\n",
        "def preprocess_users(users):\n",
        "    users = user_age_catetory_feature(users)\n",
        "    return users\n",
        "\n",
        "def preprocess_items(items):\n",
        "    genres = [\n",
        "        'unknown', 'Action', 'Adventure', \n",
        "        'Animation', 'Childrens', 'Comedy',\n",
        "        'Crime', 'Documentary', 'Drama', \n",
        "        'Fantasy', 'Film-Noir', 'Horror',\n",
        "        'Musical', 'Mystery', 'Romance', \n",
        "        'Sci-Fi', 'Thriller', 'War', 'Western'\n",
        "    ]\n",
        "    items = get_genres_feature(items, genres)\n",
        "    items = items_years_old_feature(items)\n",
        "    items = items_year_release_feature(items) \n",
        "    items = split_genres_feature(items)\n",
        "    \n",
        "    return items"
      ],
      "metadata": {
        "id": "ySqJt2cymF60"
      },
      "execution_count": 18,
      "outputs": []
    },
    {
      "cell_type": "code",
      "source": [
        "items = preprocess_items(items)\n",
        "users = preprocess_users(users)"
      ],
      "metadata": {
        "id": "M-1MhHPUnIyL"
      },
      "execution_count": 19,
      "outputs": []
    },
    {
      "cell_type": "code",
      "source": [
        "from sklearn.model_selection import train_test_split\n",
        "\n",
        "user_features_names = ['gender','age_cat','occupation']\n",
        "item_features_names = ['genres_0',\"genres_1\",\"genres_2\",'year_release']\n",
        "user_id=\"user_id\"\n",
        "item_id=\"item_id\" \n",
        "users_feat = users.set_index(user_id)[user_features_names]\n",
        "items_feat = items.set_index(item_id)[item_features_names]"
      ],
      "metadata": {
        "id": "4_yTnz1nnLC-"
      },
      "execution_count": 26,
      "outputs": []
    },
    {
      "cell_type": "code",
      "source": [
        "inter_train, inter_test = train_test_split(\n",
        "    interactions, \n",
        "    test_size=0.2,\n",
        "    stratify=interactions[\"user_id\"]\n",
        ")"
      ],
      "metadata": {
        "id": "8uFsnsUJoZrT"
      },
      "execution_count": 27,
      "outputs": []
    },
    {
      "cell_type": "code",
      "source": [
        "ds = RecDataset(\n",
        "    user_id=user_id,\n",
        "    item_id=item_id, \n",
        "    target_id=\"rating\"\n",
        ")\n",
        "X_train, y_train = ds(\n",
        "    inter_train, \n",
        "    users_feat, \n",
        "    items_feat\n",
        ")\n",
        "X_test, y_test = ds(\n",
        "    inter_test, \n",
        "    users_feat, \n",
        "    items_feat   \n",
        ")"
      ],
      "metadata": {
        "id": "LAOAvuphnXk_"
      },
      "execution_count": 29,
      "outputs": []
    },
    {
      "cell_type": "code",
      "source": [
        "rec_model = RecModel()"
      ],
      "metadata": {
        "id": "LLSPfdOFozOs"
      },
      "execution_count": 30,
      "outputs": []
    },
    {
      "cell_type": "code",
      "source": [
        "rec_model.build(\n",
        "    users[user_id],\n",
        "    items[item_id],\n",
        "    users_feat,\n",
        "    items_feat\n",
        ")"
      ],
      "metadata": {
        "id": "ojeL5mumo_oW"
      },
      "execution_count": 38,
      "outputs": []
    },
    {
      "cell_type": "code",
      "source": [
        "history = rec_model.fit(\n",
        "    X_train, y_train\n",
        ")"
      ],
      "metadata": {
        "colab": {
          "base_uri": "https://localhost:8080/"
        },
        "id": "ptV9PrAepGC-",
        "outputId": "e8dcfc27-da7a-4220-f0c0-1c84ff92f7cb"
      },
      "execution_count": 39,
      "outputs": [
        {
          "output_type": "stream",
          "name": "stdout",
          "text": [
            "Epoch 1/20\n",
            "282/282 - 6s - loss: 10.3039 - val_loss: 8.0334 - 6s/epoch - 20ms/step\n",
            "Epoch 2/20\n",
            "282/282 - 3s - loss: 6.2139 - val_loss: 4.6670 - 3s/epoch - 12ms/step\n",
            "Epoch 3/20\n",
            "282/282 - 3s - loss: 3.5417 - val_loss: 2.6545 - 3s/epoch - 12ms/step\n",
            "Epoch 4/20\n",
            "282/282 - 3s - loss: 2.1204 - val_loss: 1.7490 - 3s/epoch - 12ms/step\n",
            "Epoch 5/20\n",
            "282/282 - 3s - loss: 1.5722 - val_loss: 1.4650 - 3s/epoch - 11ms/step\n",
            "Epoch 6/20\n",
            "282/282 - 3s - loss: 1.4171 - val_loss: 1.3865 - 3s/epoch - 12ms/step\n",
            "Epoch 7/20\n",
            "282/282 - 4s - loss: 1.3652 - val_loss: 1.3481 - 4s/epoch - 12ms/step\n",
            "Epoch 8/20\n",
            "282/282 - 4s - loss: 1.3301 - val_loss: 1.3155 - 4s/epoch - 13ms/step\n",
            "Epoch 9/20\n",
            "282/282 - 3s - loss: 1.2978 - val_loss: 1.2852 - 3s/epoch - 11ms/step\n",
            "Epoch 10/20\n",
            "282/282 - 3s - loss: 1.2670 - val_loss: 1.2566 - 3s/epoch - 11ms/step\n",
            "Epoch 11/20\n",
            "282/282 - 3s - loss: 1.2375 - val_loss: 1.2298 - 3s/epoch - 11ms/step\n",
            "Epoch 12/20\n",
            "282/282 - 3s - loss: 1.2091 - val_loss: 1.2042 - 3s/epoch - 11ms/step\n",
            "Epoch 13/20\n",
            "282/282 - 4s - loss: 1.1815 - val_loss: 1.1798 - 4s/epoch - 13ms/step\n",
            "Epoch 14/20\n",
            "282/282 - 3s - loss: 1.1546 - val_loss: 1.1566 - 3s/epoch - 12ms/step\n",
            "Epoch 15/20\n",
            "282/282 - 5s - loss: 1.1281 - val_loss: 1.1343 - 5s/epoch - 17ms/step\n",
            "Epoch 16/20\n",
            "282/282 - 7s - loss: 1.1021 - val_loss: 1.1127 - 7s/epoch - 24ms/step\n",
            "Epoch 17/20\n",
            "282/282 - 6s - loss: 1.0764 - val_loss: 1.0918 - 6s/epoch - 22ms/step\n",
            "Epoch 18/20\n",
            "282/282 - 3s - loss: 1.0512 - val_loss: 1.0719 - 3s/epoch - 11ms/step\n",
            "Epoch 19/20\n",
            "282/282 - 4s - loss: 1.0265 - val_loss: 1.0529 - 4s/epoch - 15ms/step\n",
            "Epoch 20/20\n",
            "282/282 - 3s - loss: 1.0025 - val_loss: 1.0350 - 3s/epoch - 11ms/step\n"
          ]
        }
      ]
    },
    {
      "cell_type": "code",
      "source": [
        "# Get training and test loss histories\n",
        "training_loss = history.history['loss']\n",
        "test_loss = history.history['val_loss']\n",
        "\n",
        "# Create count of the number of epochs\n",
        "epoch_count = range(1, len(training_loss) + 1)\n",
        "\n",
        "# Visualize loss history\n",
        "plt.figure(figsize = (8,4))\n",
        "plt.plot(epoch_count[2:], training_loss[2:], 'r--')\n",
        "plt.plot(epoch_count[2:], test_loss[2:], 'b-')\n",
        "plt.legend(['Training Loss', 'Val Loss'])\n",
        "plt.xlabel('Epoch')\n",
        "plt.ylabel('Loss')\n",
        "plt.show()"
      ],
      "metadata": {
        "colab": {
          "base_uri": "https://localhost:8080/",
          "height": 279
        },
        "id": "WddqIx1upJFP",
        "outputId": "bd6adf16-53e3-4261-945d-9a2f39aa92b3"
      },
      "execution_count": 40,
      "outputs": [
        {
          "output_type": "display_data",
          "data": {
            "text/plain": [
              "<Figure size 576x288 with 1 Axes>"
            ],
            "image/png": "[encoded data removed]"
          },
          "metadata": {
            "needs_background": "light"
          }
        }
      ]
    },
    {
      "cell_type": "code",
      "source": [
        "score = rec_model.evaluate(X_test, y_test)\n",
        "print()\n",
        "print('RMSE: {:.4f}'.format(np.sqrt(score)))"
      ],
      "metadata": {
        "colab": {
          "base_uri": "https://localhost:8080/"
        },
        "id": "4ycyb89sqAW_",
        "outputId": "9b22d3b7-9e7a-4c26-bbc1-a5839961f8a7"
      },
      "execution_count": 41,
      "outputs": [
        {
          "output_type": "stream",
          "name": "stdout",
          "text": [
            "625/625 [==============================] - 4s 6ms/step - loss: 1.0711\n",
            "\n",
            "RMSE: 1.0350\n"
          ]
        }
      ]
    },
    {
      "cell_type": "code",
      "source": [
        "results = pd.DataFrame(X_test)\n",
        "results['y_true'] = y_test\n",
        "\n",
        "user_preds = rec_model.predict(X_test)\n",
        "\n",
        "results['y_pred'] = user_preds\n",
        "results"
      ],
      "metadata": {
        "colab": {
          "base_uri": "https://localhost:8080/",
          "height": 442
        },
        "id": "AjVS908-qyFP",
        "outputId": "63606b77-bb1b-4879-ecbd-3d036f46c1e1"
      },
      "execution_count": 45,
      "outputs": [
        {
          "output_type": "stream",
          "name": "stdout",
          "text": [
            "625/625 [==============================] - 2s 3ms/step\n"
          ]
        },
        {
          "output_type": "execute_result",
          "data": {
            "text/plain": [
              "       user_id  item_id gender age_cat     occupation  genres_0   genres_1  \\\n",
              "0          537      660      M   age_6       engineer     Drama    unknown   \n",
              "1          655      547      F   age_8     healthcare     Crime    unknown   \n",
              "2          840       82      M   age_6         artist    Sci-Fi  Adventure   \n",
              "3           94      302      M   age_2        student  Thriller    Mystery   \n",
              "4           87      576      M   age_8  administrator     Crime  Adventure   \n",
              "...        ...      ...    ...     ...            ...       ...        ...   \n",
              "19995      899       31      M   age_5          other       War   Thriller   \n",
              "19996      184      692      M   age_6      librarian   Romance      Drama   \n",
              "19997      766      211      M   age_7          other       War     Comedy   \n",
              "19998      429      629      M   age_3        student   Musical     Comedy   \n",
              "19999      227      126      M   age_7      executive     Drama    unknown   \n",
              "\n",
              "        genres_2  year_release  y_true    y_pred  \n",
              "0        unknown          1991       3  3.743660  \n",
              "1        unknown          1996       4  2.693601  \n",
              "2         Action          1993       3  3.836431  \n",
              "3      Film-Noir          1997       4  4.225177  \n",
              "4         Action          1993       3  3.287431  \n",
              "...          ...           ...     ...       ...  \n",
              "19995      Drama          1995       3  3.593670  \n",
              "19996     Comedy          1995       4  3.757826  \n",
              "19997    unknown          1970       4  4.003128  \n",
              "19998    unknown          1982       3  3.422002  \n",
              "19999    unknown          1996       4  3.325212  \n",
              "\n",
              "[20000 rows x 11 columns]"
            ],
            "text/html": [
              "\n",
              "  <div id=\"df-cf605cc5-8784-4d86-9d5f-d990b4eeefcb\">\n",
              "    <div class=\"colab-df-container\">\n",
              "      <div>\n",
              "<style scoped>\n",
              "    .dataframe tbody tr th:only-of-type {\n",
              "        vertical-align: middle;\n",
              "    }\n",
              "\n",
              "    .dataframe tbody tr th {\n",
              "        vertical-align: top;\n",
              "    }\n",
              "\n",
              "    .dataframe thead th {\n",
              "        text-align: right;\n",
              "    }\n",
              "</style>\n",
              "<table border=\"1\" class=\"dataframe\">\n",
              "  <thead>\n",
              "    <tr style=\"text-align: right;\">\n",
              "      <th></th>\n",
              "      <th>user_id</th>\n",
              "      <th>item_id</th>\n",
              "      <th>gender</th>\n",
              "      <th>age_cat</th>\n",
              "      <th>occupation</th>\n",
              "      <th>genres_0</th>\n",
              "      <th>genres_1</th>\n",
              "      <th>genres_2</th>\n",
              "      <th>year_release</th>\n",
              "      <th>y_true</th>\n",
              "      <th>y_pred</th>\n",
              "    </tr>\n",
              "  </thead>\n",
              "  <tbody>\n",
              "    <tr>\n",
              "      <th>0</th>\n",
              "      <td>537</td>\n",
              "      <td>660</td>\n",
              "      <td>M</td>\n",
              "      <td>age_6</td>\n",
              "      <td>engineer</td>\n",
              "      <td>Drama</td>\n",
              "      <td>unknown</td>\n",
              "      <td>unknown</td>\n",
              "      <td>1991</td>\n",
              "      <td>3</td>\n",
              "      <td>3.743660</td>\n",
              "    </tr>\n",
              "    <tr>\n",
              "      <th>1</th>\n",
              "      <td>655</td>\n",
              "      <td>547</td>\n",
              "      <td>F</td>\n",
              "      <td>age_8</td>\n",
              "      <td>healthcare</td>\n",
              "      <td>Crime</td>\n",
              "      <td>unknown</td>\n",
              "      <td>unknown</td>\n",
              "      <td>1996</td>\n",
              "      <td>4</td>\n",
              "      <td>2.693601</td>\n",
              "    </tr>\n",
              "    <tr>\n",
              "      <th>2</th>\n",
              "      <td>840</td>\n",
              "      <td>82</td>\n",
              "      <td>M</td>\n",
              "      <td>age_6</td>\n",
              "      <td>artist</td>\n",
              "      <td>Sci-Fi</td>\n",
              "      <td>Adventure</td>\n",
              "      <td>Action</td>\n",
              "      <td>1993</td>\n",
              "      <td>3</td>\n",
              "      <td>3.836431</td>\n",
              "    </tr>\n",
              "    <tr>\n",
              "      <th>3</th>\n",
              "      <td>94</td>\n",
              "      <td>302</td>\n",
              "      <td>M</td>\n",
              "      <td>age_2</td>\n",
              "      <td>student</td>\n",
              "      <td>Thriller</td>\n",
              "      <td>Mystery</td>\n",
              "      <td>Film-Noir</td>\n",
              "      <td>1997</td>\n",
              "      <td>4</td>\n",
              "      <td>4.225177</td>\n",
              "    </tr>\n",
              "    <tr>\n",
              "      <th>4</th>\n",
              "      <td>87</td>\n",
              "      <td>576</td>\n",
              "      <td>M</td>\n",
              "      <td>age_8</td>\n",
              "      <td>administrator</td>\n",
              "      <td>Crime</td>\n",
              "      <td>Adventure</td>\n",
              "      <td>Action</td>\n",
              "      <td>1993</td>\n",
              "      <td>3</td>\n",
              "      <td>3.287431</td>\n",
              "    </tr>\n",
              "    <tr>\n",
              "      <th>...</th>\n",
              "      <td>...</td>\n",
              "      <td>...</td>\n",
              "      <td>...</td>\n",
              "      <td>...</td>\n",
              "      <td>...</td>\n",
              "      <td>...</td>\n",
              "      <td>...</td>\n",
              "      <td>...</td>\n",
              "      <td>...</td>\n",
              "      <td>...</td>\n",
              "      <td>...</td>\n",
              "    </tr>\n",
              "    <tr>\n",
              "      <th>19995</th>\n",
              "      <td>899</td>\n",
              "      <td>31</td>\n",
              "      <td>M</td>\n",
              "      <td>age_5</td>\n",
              "      <td>other</td>\n",
              "      <td>War</td>\n",
              "      <td>Thriller</td>\n",
              "      <td>Drama</td>\n",
              "      <td>1995</td>\n",
              "      <td>3</td>\n",
              "      <td>3.593670</td>\n",
              "    </tr>\n",
              "    <tr>\n",
              "      <th>19996</th>\n",
              "      <td>184</td>\n",
              "      <td>692</td>\n",
              "      <td>M</td>\n",
              "      <td>age_6</td>\n",
              "      <td>librarian</td>\n",
              "      <td>Romance</td>\n",
              "      <td>Drama</td>\n",
              "      <td>Comedy</td>\n",
              "      <td>1995</td>\n",
              "      <td>4</td>\n",
              "      <td>3.757826</td>\n",
              "    </tr>\n",
              "    <tr>\n",
              "      <th>19997</th>\n",
              "      <td>766</td>\n",
              "      <td>211</td>\n",
              "      <td>M</td>\n",
              "      <td>age_7</td>\n",
              "      <td>other</td>\n",
              "      <td>War</td>\n",
              "      <td>Comedy</td>\n",
              "      <td>unknown</td>\n",
              "      <td>1970</td>\n",
              "      <td>4</td>\n",
              "      <td>4.003128</td>\n",
              "    </tr>\n",
              "    <tr>\n",
              "      <th>19998</th>\n",
              "      <td>429</td>\n",
              "      <td>629</td>\n",
              "      <td>M</td>\n",
              "      <td>age_3</td>\n",
              "      <td>student</td>\n",
              "      <td>Musical</td>\n",
              "      <td>Comedy</td>\n",
              "      <td>unknown</td>\n",
              "      <td>1982</td>\n",
              "      <td>3</td>\n",
              "      <td>3.422002</td>\n",
              "    </tr>\n",
              "    <tr>\n",
              "      <th>19999</th>\n",
              "      <td>227</td>\n",
              "      <td>126</td>\n",
              "      <td>M</td>\n",
              "      <td>age_7</td>\n",
              "      <td>executive</td>\n",
              "      <td>Drama</td>\n",
              "      <td>unknown</td>\n",
              "      <td>unknown</td>\n",
              "      <td>1996</td>\n",
              "      <td>4</td>\n",
              "      <td>3.325212</td>\n",
              "    </tr>\n",
              "  </tbody>\n",
              "</table>\n",
              "<p>20000 rows × 11 columns</p>\n",
              "</div>\n",
              "      <button class=\"colab-df-convert\" onclick=\"convertToInteractive('df-cf605cc5-8784-4d86-9d5f-d990b4eeefcb')\"\n",
              "              title=\"Convert this dataframe to an interactive table.\"\n",
              "              style=\"display:none;\">\n",
              "        \n",
              "  <svg xmlns=\"http://www.w3.org/2000/svg\" height=\"24px\"viewBox=\"0 0 24 24\"\n",
              "       width=\"24px\">\n",
              "    <path d=\"M0 0h24v24H0V0z\" fill=\"none\"/>\n",
              "    <path d=\"M18.56 5.44l.94 2.06.94-2.06 2.06-.94-2.06-.94-.94-2.06-.94 2.06-2.06.94zm-11 1L8.5 8.5l.94-2.06 2.06-.94-2.06-.94L8.5 2.5l-.94 2.06-2.06.94zm10 10l.94 2.06.94-2.06 2.06-.94-2.06-.94-.94-2.06-.94 2.06-2.06.94z\"/><path d=\"M17.41 7.96l-1.37-1.37c-.4-.4-.92-.59-1.43-.59-.52 0-1.04.2-1.43.59L10.3 9.45l-7.72 7.72c-.78.78-.78 2.05 0 2.83L4 21.41c.39.39.9.59 1.41.59.51 0 1.02-.2 1.41-.59l7.78-7.78 2.81-2.81c.8-.78.8-2.07 0-2.86zM5.41 20L4 18.59l7.72-7.72 1.47 1.35L5.41 20z\"/>\n",
              "  </svg>\n",
              "      </button>\n",
              "      \n",
              "  <style>\n",
              "    .colab-df-container {\n",
              "      display:flex;\n",
              "      flex-wrap:wrap;\n",
              "      gap: 12px;\n",
              "    }\n",
              "\n",
              "    .colab-df-convert {\n",
              "      background-color: #E8F0FE;\n",
              "      border: none;\n",
              "      border-radius: 50%;\n",
              "      cursor: pointer;\n",
              "      display: none;\n",
              "      fill: #1967D2;\n",
              "      height: 32px;\n",
              "      padding: 0 0 0 0;\n",
              "      width: 32px;\n",
              "    }\n",
              "\n",
              "    .colab-df-convert:hover {\n",
              "      background-color: #E2EBFA;\n",
              "      box-shadow: 0px 1px 2px rgba(60, 64, 67, 0.3), 0px 1px 3px 1px rgba(60, 64, 67, 0.15);\n",
              "      fill: #174EA6;\n",
              "    }\n",
              "\n",
              "    [theme=dark] .colab-df-convert {\n",
              "      background-color: #3B4455;\n",
              "      fill: #D2E3FC;\n",
              "    }\n",
              "\n",
              "    [theme=dark] .colab-df-convert:hover {\n",
              "      background-color: #434B5C;\n",
              "      box-shadow: 0px 1px 3px 1px rgba(0, 0, 0, 0.15);\n",
              "      filter: drop-shadow(0px 1px 2px rgba(0, 0, 0, 0.3));\n",
              "      fill: #FFFFFF;\n",
              "    }\n",
              "  </style>\n",
              "\n",
              "      <script>\n",
              "        const buttonEl =\n",
              "          document.querySelector('#df-cf605cc5-8784-4d86-9d5f-d990b4eeefcb button.colab-df-convert');\n",
              "        buttonEl.style.display =\n",
              "          google.colab.kernel.accessAllowed ? 'block' : 'none';\n",
              "\n",
              "        async function convertToInteractive(key) {\n",
              "          const element = document.querySelector('#df-cf605cc5-8784-4d86-9d5f-d990b4eeefcb');\n",
              "          const dataTable =\n",
              "            await google.colab.kernel.invokeFunction('convertToInteractive',\n",
              "                                                     [key], {});\n",
              "          if (!dataTable) return;\n",
              "\n",
              "          const docLinkHtml = 'Like what you see? Visit the ' +\n",
              "            '<a target=\"_blank\" href=https://colab.research.google.com/notebooks/data_table.ipynb>data table notebook</a>'\n",
              "            + ' to learn more about interactive tables.';\n",
              "          element.innerHTML = '';\n",
              "          dataTable['output_type'] = 'display_data';\n",
              "          await google.colab.output.renderOutput(dataTable, element);\n",
              "          const docLink = document.createElement('div');\n",
              "          docLink.innerHTML = docLinkHtml;\n",
              "          element.appendChild(docLink);\n",
              "        }\n",
              "      </script>\n",
              "    </div>\n",
              "  </div>\n",
              "  "
            ]
          },
          "metadata": {},
          "execution_count": 45
        }
      ]
    },
    {
      "cell_type": "code",
      "source": [
        "results['y_true'].hist()\n",
        "results['y_pred'].hist()"
      ],
      "metadata": {
        "colab": {
          "base_uri": "https://localhost:8080/",
          "height": 283
        },
        "id": "fnfhp5U_rRLt",
        "outputId": "00c0fe19-2bb9-47fe-b005-24c49d3823a9"
      },
      "execution_count": 46,
      "outputs": [
        {
          "output_type": "execute_result",
          "data": {
            "text/plain": [
              "<matplotlib.axes._subplots.AxesSubplot at 0x7f8576e7df10>"
            ]
          },
          "metadata": {},
          "execution_count": 46
        },
        {
          "output_type": "display_data",
          "data": {
            "text/plain": [
              "<Figure size 432x288 with 1 Axes>"
            ],
            "image/png": "[encoded data removed]"
          },
          "metadata": {
            "needs_background": "light"
          }
        }
      ]
    }
  ]
}